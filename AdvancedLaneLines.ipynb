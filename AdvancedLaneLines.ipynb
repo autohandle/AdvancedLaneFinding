{
 "cells": [
  {
   "cell_type": "markdown",
   "metadata": {},
   "source": [
    "### calibrate camera"
   ]
  },
  {
   "cell_type": "code",
   "execution_count": 89,
   "metadata": {},
   "outputs": [
    {
     "name": "stdout",
     "output_type": "stream",
     "text": [
      "rgbImageNames.shape: (720, 1280, 3) , rgbImageNames: ['./camera_cal/calibration1.jpg', './camera_cal/calibration10.jpg', './camera_cal/calibration11.jpg', './camera_cal/calibration12.jpg', './camera_cal/calibration13.jpg', './camera_cal/calibration14.jpg', './camera_cal/calibration15.jpg', './camera_cal/calibration16.jpg', './camera_cal/calibration17.jpg', './camera_cal/calibration18.jpg', './camera_cal/calibration19.jpg', './camera_cal/calibration2.jpg', './camera_cal/calibration20.jpg', './camera_cal/calibration3.jpg', './camera_cal/calibration4.jpg', './camera_cal/calibration5.jpg', './camera_cal/calibration6.jpg', './camera_cal/calibration7.jpg', './camera_cal/calibration8.jpg', './camera_cal/calibration9.jpg']\n",
      "FIGURECOLUMNCOUNT: 3 , figureRowCount: 20\n",
      "objectPoints.shape: (54, 3) , objectPoints: [ 0.  0.  0.] [ 1.  0.  0.] [ 2.  0.  0.] [ 8.  5.  0.]\n",
      "status: False , rgbImageName: ./camera_cal/calibration1.jpg\n",
      "status: True , rgbImageName: ./camera_cal/calibration10.jpg , corners.shape: (54, 1, 2) corners[0]: [[ 545.32281494  343.05032349]]\n",
      "status: True , rgbImageName: ./camera_cal/calibration11.jpg , corners.shape: (54, 1, 2) corners[0]: [[ 100.06748962  268.71792603]]\n",
      "status: True , rgbImageName: ./camera_cal/calibration12.jpg , corners.shape: (54, 1, 2) corners[0]: [[ 658.30029297  203.32369995]]\n",
      "status: True , rgbImageName: ./camera_cal/calibration13.jpg , corners.shape: (54, 1, 2) corners[0]: [[ 410.70120239  317.82998657]]\n",
      "status: True , rgbImageName: ./camera_cal/calibration14.jpg , corners.shape: (54, 1, 2) corners[0]: [[ 961.01141357  147.0532074 ]]\n",
      "status: True , rgbImageName: ./camera_cal/calibration15.jpg , corners.shape: (54, 1, 2) corners[0]: [[ 926.02520752  304.22421265]]\n",
      "status: True , rgbImageName: ./camera_cal/calibration16.jpg , corners.shape: (54, 1, 2) corners[0]: [[ 946.59539795  102.16956329]]\n",
      "status: True , rgbImageName: ./camera_cal/calibration17.jpg , corners.shape: (54, 1, 2) corners[0]: [[ 402.43771362  298.43978882]]\n",
      "status: True , rgbImageName: ./camera_cal/calibration18.jpg , corners.shape: (54, 1, 2) corners[0]: [[ 437.5  125. ]]\n",
      "status: True , rgbImageName: ./camera_cal/calibration19.jpg , corners.shape: (54, 1, 2) corners[0]: [[  88.68092346  138.59263611]]\n",
      "status: True , rgbImageName: ./camera_cal/calibration2.jpg , corners.shape: (54, 1, 2) corners[0]: [[ 149.50816345  169.30766296]]\n",
      "status: True , rgbImageName: ./camera_cal/calibration20.jpg , corners.shape: (54, 1, 2) corners[0]: [[  84.  363.]]\n",
      "status: True , rgbImageName: ./camera_cal/calibration3.jpg , corners.shape: (54, 1, 2) corners[0]: [[ 224.43092346   78.436203  ]]\n",
      "status: False , rgbImageName: ./camera_cal/calibration4.jpg\n",
      "status: False , rgbImageName: ./camera_cal/calibration5.jpg\n",
      "status: True , rgbImageName: ./camera_cal/calibration6.jpg , corners.shape: (54, 1, 2) corners[0]: [[ 483.04464722  241.91763306]]\n",
      "status: True , rgbImageName: ./camera_cal/calibration7.jpg , corners.shape: (54, 1, 2) corners[0]: [[ 331.5012207   272.02386475]]\n",
      "status: True , rgbImageName: ./camera_cal/calibration8.jpg , corners.shape: (54, 1, 2) corners[0]: [[ 710.11895752  216.35023499]]\n",
      "status: True , rgbImageName: ./camera_cal/calibration9.jpg , corners.shape: (54, 1, 2) corners[0]: [[ 623.08917236  147.099823  ]]\n",
      "allImagePoints: 17 , allObjectPoints: 17\n",
      "allImagePoints[0].shape: (54, 2) , allObjectPoints[0].shape: (54, 3)\n",
      "status: 1.186897360342372 , cameraMatrix: [[  1.15396093e+03   0.00000000e+00   6.69705357e+02]\n",
      " [  0.00000000e+00   1.14802496e+03   3.85656234e+02]\n",
      " [  0.00000000e+00   0.00000000e+00   1.00000000e+00]] , distortionCoefficients: [[ -2.41017956e-01  -5.30721172e-02  -1.15810355e-03  -1.28318856e-04\n",
      "    2.67125291e-02]]\n"
     ]
    },
    {
     "name": "stderr",
     "output_type": "stream",
     "text": [
      "IOPub data rate exceeded.\n",
      "The notebook server will temporarily stop sending output\n",
      "to the client in order to avoid crashing it.\n",
      "To change this limit, set the config variable\n",
      "`--NotebookApp.iopub_data_rate_limit`.\n"
     ]
    }
   ],
   "source": [
    "import cv2\n",
    "import numpy as np\n",
    "\n",
    "import matplotlib.image as mpimage\n",
    "import matplotlib.pyplot as plt\n",
    "\n",
    "\n",
    "DOALL=True\n",
    "if DOALL:\n",
    "    import glob\n",
    "    rgbImageNames=glob.glob(\"./camera_cal/calibration*.jpg\")\n",
    "else:\n",
    "    rgbImageNames=np.array([\"./camera_cal/calibration1.jpg\"])\n",
    "    print(\"rgbImageNames.shape:\", rgbImages.shape, \", rgbImageNames[0]:\", rgbImageNames[0])\n",
    "rgbImageNames.sort()\n",
    "print(\"rgbImageNames.shape:\", rgbImages.shape, \", rgbImageNames:\", rgbImageNames)\n",
    "\n",
    "%matplotlib inline\n",
    "FIGURECOLUMNCOUNT=3\n",
    "figureRowCount=len(rgbImageNames)\n",
    "print(\"FIGURECOLUMNCOUNT:\", FIGURECOLUMNCOUNT, \", figureRowCount:\", figureRowCount)\n",
    "\n",
    "showImages = plt.figure(figsize = (FIGURECOLUMNCOUNT*5,figureRowCount*5))\n",
    "\n",
    "calibrationImageRows=6 # Y coordinate\n",
    "calibrationImageColumns=9 # X coordinate\n",
    "\n",
    "objectPoints=np.zeros((calibrationImageRows*calibrationImageColumns,3))\n",
    "objectPoints[:]=[ [x,y,0] for y in range(calibrationImageRows) for x in range(calibrationImageColumns) ] # one entry for every interior point, each entry: x,y,x\n",
    "print(\"objectPoints.shape:\", objectPoints.shape, \", objectPoints:\", objectPoints[0], objectPoints[1], objectPoints[2], objectPoints[-1])\n",
    "\n",
    "allImagePoints=[]\n",
    "allObjectPoints=[]\n",
    "\n",
    "grayScaleImage=None\n",
    "\n",
    "for imageIndex,rgbImageName in zip (range(0,3*figureRowCount,3), rgbImageNames):\n",
    "    validImages=[]\n",
    "    rgbImage=mpimage.imread(rgbImageName)\n",
    "\n",
    "\n",
    "    p=showImages.add_subplot(figureRowCount,FIGURECOLUMNCOUNT,imageIndex+1)\n",
    "    p.set_title(str(imageIndex)+\":\"+rgbImageName)\n",
    "    p.imshow(rgbImage)\n",
    "\n",
    "    grayScaleImage = cv2.cvtColor(rgbImage, cv2.COLOR_RGB2GRAY)\n",
    "    p=showImages.add_subplot(figureRowCount,FIGURECOLUMNCOUNT,imageIndex+2)\n",
    "    p.set_title(\"gray scale\")\n",
    "    p.imshow(grayScaleImage, cmap='gray')\n",
    "\n",
    "    #for i in range(3,15):\n",
    "    #    for j in range(3,15):\n",
    "    #        status, corners = cv2.findChessboardCorners(grayScaleImage, (i,j), None)\n",
    "    #        print(\"status:\", status, \"i:\", i, \"j:\",j)\n",
    "    #        if status:\n",
    "    #            print(\"status:\", status, \"i:\", i, \"j:\",j)\n",
    "    status, corners = cv2.findChessboardCorners(grayScaleImage, (calibrationImageColumns,calibrationImageRows), None)\n",
    "    #print(\"status:\", status, \", rgbImageName:\", rgbImageName)\n",
    "    \n",
    "    if status:\n",
    "        print(\"status:\", status, \", rgbImageName:\", rgbImageName, \", corners.shape:\", corners.shape, \"corners[0]:\", corners[0])\n",
    "        decoratedImage = cv2.drawChessboardCorners(rgbImage, (calibrationImageColumns,calibrationImageRows), corners, status)\n",
    "        p=showImages.add_subplot(figureRowCount,FIGURECOLUMNCOUNT,imageIndex+3)\n",
    "        p.set_title(\"corner decorated\")\n",
    "        #print(\"status:\", status, \", corners.shape:\", corners.shape)\n",
    "        p.imshow(decoratedImage)\n",
    "        imagePoints=corners.reshape(corners.shape[0],corners.shape[2])\n",
    "        #print(\"imagePoints.shape:\", imagePoints.shape)\n",
    "        allImagePoints.append(imagePoints.astype('float32'))\n",
    "        allObjectPoints.append(objectPoints.astype('float32'))\n",
    "        validImages.append(rgbImageName)\n",
    "    else:\n",
    "        print(\"status:\", status, \", rgbImageName:\", rgbImageName)        \n",
    "\n",
    "print(\"allImagePoints:\", len(allImagePoints), \", allObjectPoints:\", len(allObjectPoints))\n",
    "assert len(allImagePoints) == len(allObjectPoints)\n",
    "print(\"allImagePoints[0].shape:\", allImagePoints[0].shape, \", allObjectPoints[0].shape:\", allObjectPoints[0].shape)\n",
    "\n",
    "plt.tight_layout()\n",
    "\n",
    "status, cameraMatrix, distortionCoefficients, rotationVectors, translationVectors = cv2.calibrateCamera(allObjectPoints, allImagePoints, grayScaleImage.shape[::-1], None, None)\n",
    "print(\"status:\", status, \", cameraMatrix:\", cameraMatrix, \", distortionCoefficients:\", distortionCoefficients)\n",
    "\n",
    "#plt.close()"
   ]
  },
  {
   "cell_type": "code",
   "execution_count": null,
   "metadata": {
    "collapsed": true
   },
   "outputs": [],
   "source": []
  }
 ],
 "metadata": {
  "kernelspec": {
   "display_name": "Python 3",
   "language": "python",
   "name": "python3"
  },
  "language_info": {
   "codemirror_mode": {
    "name": "ipython",
    "version": 3
   },
   "file_extension": ".py",
   "mimetype": "text/x-python",
   "name": "python",
   "nbconvert_exporter": "python",
   "pygments_lexer": "ipython3",
   "version": "3.5.2"
  },
  "widgets": {
   "state": {},
   "version": "1.1.2"
  }
 },
 "nbformat": 4,
 "nbformat_minor": 2
}
